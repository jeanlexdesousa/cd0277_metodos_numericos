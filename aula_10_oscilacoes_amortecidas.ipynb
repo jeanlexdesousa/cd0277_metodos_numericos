{
 "cells": [
  {
   "cell_type": "markdown",
   "metadata": {},
   "source": [
    "# Oscilações amortecidas\n",
    "\n",
    "Jeanlex Soares de Sousa (jeanlex@fisica.ufc.br) <br>\n",
    "Departamento de Física <br>\n",
    "Universidade Federal do Ceará"
   ]
  },
  {
   "cell_type": "markdown",
   "metadata": {},
   "source": [
    "## Introdução\n",
    "\n",
    "O movimento oscilatório está presente em muitos problemas de Física como um sistema massa mola e um pêndulo simples. A equação diferencial fundamental que descreve oscilações é:\n",
    "\n",
    "$$ \\frac{d^2 x}{d t^2}+ 2 b \\frac{d x}{d t} + c x = 0 $$\n",
    "\n",
    "Esta equação pode ser resolvida usando-se o método da equação característica. Neste caso, assume-se que a a solução é dada por:\n",
    "\n",
    "$$ x(t) = A e^{p t}$$\n",
    "\n",
    "Substituindo-se esta solução na equação diferencial, tem-se:\n",
    "\n",
    "$$\\left(p^2 + 2 b p + c\\right)x(t) = 0 $$\n",
    "\n",
    "Para que esta equação seja válida em qualquer $t$, tem-se:\n",
    "\n",
    "$$ p^2 + 2 b p + c = 0 $$\n",
    "\n",
    "Esta equação possui duas soluções:\n",
    "\n",
    "$$ p_{1,2} = - b \\pm \\sqrt{b^2 - c} $$\n",
    "\n",
    "A solução mais geral possível envolve a compinação linear de $p_{1,2}$. Esta solução possui a seguinte forma:\n",
    "\n",
    "$$ x(t) = e^{-b t}\\left[A  e^{(\\sqrt{b^2 - c})t }+ B  e^{-(\\sqrt{b^2 - c})t } \\right] $$\n",
    "\n",
    "\n",
    "Note que há uma certa liberdade no parâmetro $\\omega' = \\sqrt{b^2 - c}$:\n",
    "\n",
    "* Caso I ($b^2> c$). Neste caso $\\omega' \\in \\mathbb{R}$. A componente $e^{\\omega' t}$ faz com que a amplitude do movimento cresça indefinidamente. Obviamente, isto não faz nenhum sentido pois não há nenhuma força externa adicionando energia no sistema. Portanto, a solução para os casos em que $\\omega' > 0$ é:\n",
    "\n",
    "$$ x_{I}(t) = A e^{-b t} e^{-\\omega' t} $$\n",
    "\n",
    "Esta solução descreve um decaimento exponencial com tempo de decaimento $\\tau = (b+\\omega')^{-1}$.\n",
    "\n",
    "* Caso II ($b^2 = c$). Neste caso, a solução torna-se:\n",
    "\n",
    "$$ x_{II}(t) = A e^{-b t} $$\n",
    "\n",
    "Esta solução descreve um decaimento exponencial com tempo de decaimento $\\tau = b^{-1}$.\n",
    "\n",
    "\n",
    "* Caso III ($b^2 < c$). Neste caso  $\\omega' \\in \\mathbb{C}$, e podemos assumir $\\omega' \\rightarrow i \\omega'$, onde $\\omega' = \\sqrt{|b^2 - c|}$. A solução $x(t)$ torna-se:\n",
    "\n",
    "$$ x_{III}(t) = e^{-b t}\\left(A e^{i\\omega' t}+ B e^{-i\\omega' t} \\right)$$\n",
    "\n",
    "Usando-se a relação de Euler $e^{i x} = \\cos x + i \\sin x$, a solução $x_{III}(t)$ pode ser escrita como:\n",
    "\n",
    "$$ x_{III}(t)  = e^{-b t}\\left[(A+B) \\cos \\omega' t + i (A-B)\\sin \\omega' t\\right] $$\n",
    "\n",
    "Usando-se a propriedade trigonométrica $\\cos (a\\pm b) = \\cos a \\cos b \\mp \\sin a \\sin b$ tem-se $\\cos \\phi = A+B$ e $\\sin \\phi =  i(A - B)$. Finalmente, obtemos a solução:\n",
    "\n",
    "$$ x_{III}(t)  = A e^{-b t}\\cos (\\omega' t - \\phi)$$\n",
    "\n",
    "Esta solução descreve uma oscilação com frequência $\\omega'$ cuja amplitude decai exponencialmente com o tempo.\n",
    "\n",
    "\n"
   ]
  },
  {
   "cell_type": "markdown",
   "metadata": {},
   "source": [
    "## Análise das soluções\n",
    "\n",
    "Assuma os seguintes parâmetros $A = 1$ e $ c = 100 $. Temos então os três tipos de solução quando:\n",
    "\n",
    "* $b > 10$: solução super-amortecida\n",
    "* $b = 10$: solução criticamente amortecida\n",
    "* $b < 10$: solução amortecida"
   ]
  },
  {
   "cell_type": "code",
   "execution_count": 30,
   "metadata": {},
   "outputs": [],
   "source": [
    "# loading libraries \n",
    "%matplotlib inline\n",
    "import matplotlib.pyplot as plt\n",
    "import numpy as np\n",
    "\n",
    "# input parameter\n",
    "A, c = 1, 100\n",
    "b1, w1 = 20, np.sqrt(b1**2 - c)\n",
    "b2, w2 = 10, np.sqrt(b2**2 - c)\n",
    "b3, w3 = 5, np.sqrt(np.abs(b1**2 - c))\n"
   ]
  },
  {
   "cell_type": "code",
   "execution_count": 32,
   "metadata": {},
   "outputs": [
    {
     "data": {
      "image/png": "[encoded data removed]",
      "text/plain": [
       "<Figure size 432x288 with 1 Axes>"
      ]
     },
     "metadata": {
      "needs_background": "light"
     },
     "output_type": "display_data"
    }
   ],
   "source": [
    "t = np.linspace(0,1,100)\n",
    "\n",
    "x1 = A*np.exp(-b1*t)*np.exp(-w1*t)\n",
    "x2 = A*np.exp(-b2*t)\n",
    "x3 = A*np.exp(-b3*t)*np.cos(w3*t)\n",
    "x4 = A*np.exp(-b4*t)*np.cos(w4*t)\n",
    "          \n",
    "plt.plot(t,x1,'k-',t,x2,'b-',t,x3,'r-')\n",
    "plt.axis([0, np.max(t), -1.1*A, 1.1*A])\n",
    "plt.xlabel('time (s)')\n",
    "plt.ylabel('x')\n",
    "plt.legend(['b = 20','b = 10', 'b = 5'])\n",
    "plt.show()\n"
   ]
  },
  {
   "cell_type": "code",
   "execution_count": null,
   "metadata": {
    "collapsed": true
   },
   "outputs": [],
   "source": []
  }
 ],
 "metadata": {
  "kernelspec": {
   "display_name": "Python 3",
   "language": "python",
   "name": "python3"
  },
  "language_info": {
   "codemirror_mode": {
    "name": "ipython",
    "version": 3
   },
   "file_extension": ".py",
   "mimetype": "text/x-python",
   "name": "python",
   "nbconvert_exporter": "python",
   "pygments_lexer": "ipython3",
   "version": "3.7.1"
  }
 },
 "nbformat": 4,
 "nbformat_minor": 1
}
