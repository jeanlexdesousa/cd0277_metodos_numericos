{
 "cells": [
  {
   "cell_type": "markdown",
   "metadata": {},
   "source": [
    "# Métodos Numéricos para Físicos\n",
    "\n",
    "Jeanlex Soares de Sousa (jeanlex@fisica.ufc.br) <br>\n",
    "Departamento de Física <br>\n",
    "Universidade Federal do Ceará\n"
   ]
  },
  {
   "cell_type": "markdown",
   "metadata": {},
   "source": [
    "Este material foi desenvolvido para estudantes sem nenhuma experiência prévia em programação e cálculo numérico. Todos os códigos foram escritos em Python visando encurtar a curva de aprendizado. Ao final da primeira aula, espera-se que os estudantes sejam capazes de fzer plotagens básicas de funções matemáticas.\n",
    "\n",
    "###### Parte 1: conceitos preliminares\n",
    "    \n",
    "* [Plotagem básica de funções](./aula_1_plotagem_funcoes.ipynb)\n",
    "* [Derivada numérica](./aula_2_derivada_numerica.ipynb)\n",
    "* [Integração numérica](./aula_3_integracao_numerica.ipynb)\n",
    "* [Exercícios](./problemas_parte_1.ipynb) \n",
    "\n",
    "###### Parte 2: solução de equações diferenciais ordinárias de primeira ordem\n",
    "* [Decaimento radiativo](./aula_4_decaimento_radiativo.ipynb)\n",
    "* [Problemas avançados: velocidade terminal no salto de paraquedas](./aula_5a_problemas_avancados_paraquedas.ipynb)\n",
    "* [Problemas avançados: crescimento populacional](./aula_5b_problemas_avancados_populacao.ipynb)\n",
    "* [Exercícios](./problemas_parte_2.ipynb) \n",
    "\n",
    "###### Parte 3: solução de equações diferenciais ordinárias de segunda ordem\n",
    "* [Resistênia do ar em uma corrida de bicicleta](./aula_6_bikeracing.ipynb)\n",
    "* [Movimento de projéteis em 2D](./aula_7_projeteis2d.ipynb)\n",
    "* [Problemas avançados: Movimento de projéteis em 3D e o efeito Magnus](./aula_8_projeteis3d.ipynb)\n",
    "* [Exercícios](./problemas_parte_3.ipynb) \n",
    "\n",
    "###### Parte 4: pêndulo simples (ainda incompleto)\n",
    "* [Movimento de um pêndulo simples para pequenas oscilações (regime linear)](./aula_9_pendulo_simples.ipynb)\n",
    "* [Solução analitica das oscilações amortecidas](./aula_10_oscilacoes_amortecidas.ipynb)\n",
    "\n"
   ]
  },
  {
   "cell_type": "code",
   "execution_count": null,
   "metadata": {},
   "outputs": [],
   "source": []
  }
 ],
 "metadata": {
  "kernelspec": {
   "display_name": "Python 3",
   "language": "python",
   "name": "python3"
  },
  "language_info": {
   "codemirror_mode": {
    "name": "ipython",
    "version": 3
   },
   "file_extension": ".py",
   "mimetype": "text/x-python",
   "name": "python",
   "nbconvert_exporter": "python",
   "pygments_lexer": "ipython3",
   "version": "3.7.1"
  }
 },
 "nbformat": 4,
 "nbformat_minor": 2
}
